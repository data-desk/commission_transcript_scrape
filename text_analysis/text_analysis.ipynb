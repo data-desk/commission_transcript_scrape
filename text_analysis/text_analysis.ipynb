{
 "cells": [
  {
   "cell_type": "code",
   "execution_count": 128,
   "metadata": {},
   "outputs": [],
   "source": [
    "import pdf_to_text\n",
    "import glob\n",
    "import spacy\n",
    "import en_core_web_sm\n",
    "import en_core_web_md\n",
    "import pandas as pd\n",
    "\n",
    "# to extract date from pdf titles"
   ]
  },
  {
   "cell_type": "code",
   "execution_count": 129,
   "metadata": {},
   "outputs": [
    {
     "name": "stdout",
     "output_type": "stream",
     "text": [
      "There are 38 files in this folder\n"
     ]
    }
   ],
   "source": [
    "path = r'C:\\Users\\jcoet\\Projects\\zondo_text_extract\\pdf_transcripts\\*.pdf'\n",
    "folder = glob.glob(path)\n",
    "\n",
    "# check the number of files that are in the folder\n",
    "\n",
    "print('There are ' + str(len(folder)) + ' files in this folder')"
   ]
  },
  {
   "cell_type": "code",
   "execution_count": 130,
   "metadata": {},
   "outputs": [],
   "source": [
    "def get_date_from_file(file_name):\n",
    "    \n",
    "    # returns date name for file\n",
    "    \n",
    "    updated_date = '-'.join(file_name.split('\\\\')[-1].split('_')[:3]).replace('-Sessions.pdf', '2018').lower()\n",
    "    updated_date = updated_date.replace('28-september-', '28-september-2018')\n",
    "    \n",
    "    return updated_date"
   ]
  },
  {
   "cell_type": "code",
   "execution_count": 131,
   "metadata": {},
   "outputs": [],
   "source": [
    "# def merge_texts():\n",
    "    \n",
    "#     # use to merge all text from files\n",
    "    \n",
    "#     file_list = []\n",
    "\n",
    "#     for file in folder:\n",
    "\n",
    "#         file_list.append(pdf_to_text.extract_pdf_text(file))\n",
    "        \n",
    "#     return ' '.join(file_list)"
   ]
  },
  {
   "cell_type": "code",
   "execution_count": 167,
   "metadata": {},
   "outputs": [],
   "source": [
    "def get_people(pdf_file):\n",
    "    \n",
    "    # apply text extraction to pdf_file\n",
    "\n",
    "    test_transcript = pdf_to_text.extract_pdf_text(pdf_file)\n",
    "    \n",
    "    # some light cleaning\n",
    "    \n",
    "    test_transcript = test_transcript.replace('\\n', '')\n",
    "    test_transcript = test_transcript.replace('  ', ' ')\n",
    "    test_transcript = test_transcript.replace('  ', ' ')\n",
    "    \n",
    "    # identify words \n",
    "    \n",
    "    document = spacy_nip(test_transcript)\n",
    "    labels = []\n",
    "\n",
    "    for element in document.ents:\n",
    "        labels.append('Type: %s, Value: %s' % (element.label_, element))\n",
    "    \n",
    "    # create persons_df\n",
    "    \n",
    "    peeps_df = pd.Series(labels)\n",
    "    peeps_df = peeps_df[peeps_df.str.contains('PERSON')]\n",
    "\n",
    "    peeps_df = peeps_df.reset_index()\n",
    "    peeps_df.columns = ['index', 'term']\n",
    "\n",
    "    def remove_person(df_column):\n",
    "        return df_column.replace('Type: PERSON, Value: ', '')\n",
    "\n",
    "    peeps_df['term'] = peeps_df['term'].apply(remove_person)\n",
    "    \n",
    "    return peeps_df"
   ]
  },
  {
   "cell_type": "code",
   "execution_count": 172,
   "metadata": {},
   "outputs": [],
   "source": [
    "import numpy as np\n",
    "\n",
    "import nltk\n",
    "\n",
    "# The function uses NLP to find the most popular words in given text\n",
    "\n",
    "def popular_words(text_column):\n",
    "\n",
    "    # Converting all project descriptions to text\n",
    "    text = text_column\n",
    "    text = text.str.cat(sep=' ')\n",
    "    text = text.split(' ')\n",
    "\n",
    "    # Remove single-character tokens (mostly punctuation)\n",
    "    text = [word for word in text if len(word) > 1]\n",
    "\n",
    "    # Lowercase all words (default_stopwords are lowercase too)\n",
    "    text = [word.lower() for word in text]\n",
    "\n",
    "    fdist = nltk.FreqDist(text)\n",
    "    \n",
    "    return fdist.most_common()"
   ]
  },
  {
   "cell_type": "code",
   "execution_count": 196,
   "metadata": {},
   "outputs": [],
   "source": [
    "def get_df(file_name):\n",
    "    \n",
    "    # create df with name and frequency\n",
    "\n",
    "    name = []\n",
    "    freq = []\n",
    "\n",
    "    for i in popular_words(get_people(file_name)['term']):\n",
    "\n",
    "        name.append(i[0])\n",
    "        freq.append(i[1])\n",
    "\n",
    "    freq_df = pd.DataFrame()\n",
    "\n",
    "    freq_df['Name'] = name\n",
    "    freq_df['Freq'] = freq\n",
    "    \n",
    "    return freq_df.to_csv(r'C:\\Users\\jcoet\\Projects\\zondo_text_extract\\text_analysis\\name_freq_dfs\\%s.csv' %get_date_from_file(file_name))"
   ]
  },
  {
   "cell_type": "code",
   "execution_count": 198,
   "metadata": {},
   "outputs": [],
   "source": [
    "for file in folder:\n",
    "    \n",
    "    # loop over all PDF files in folder\n",
    "    \n",
    "    get_df(file)"
   ]
  },
  {
   "cell_type": "code",
   "execution_count": null,
   "metadata": {},
   "outputs": [],
   "source": []
  }
 ],
 "metadata": {
  "kernelspec": {
   "display_name": "Python 3",
   "language": "python",
   "name": "python3"
  },
  "language_info": {
   "codemirror_mode": {
    "name": "ipython",
    "version": 3
   },
   "file_extension": ".py",
   "mimetype": "text/x-python",
   "name": "python",
   "nbconvert_exporter": "python",
   "pygments_lexer": "ipython3",
   "version": "3.6.6"
  }
 },
 "nbformat": 4,
 "nbformat_minor": 2
}
